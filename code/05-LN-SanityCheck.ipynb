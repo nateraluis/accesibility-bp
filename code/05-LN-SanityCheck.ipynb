{
 "cells": [
  {
   "cell_type": "code",
   "execution_count": 1,
   "metadata": {},
   "outputs": [],
   "source": [
    "import osmnx as ox\n",
    "import pandas as pd\n",
    "import geopandas as gpd\n",
    "import networkx as nx\n",
    "import time\n",
    "import copy\n",
    "import matplotlib.pyplot as plt\n",
    "import datetime\n",
    "import keplergl\n",
    "%matplotlib inline"
   ]
  },
  {
   "cell_type": "code",
   "execution_count": 2,
   "metadata": {},
   "outputs": [],
   "source": [
    "ox.config(data_folder='data', logs_folder='logs', \n",
    "          imgs_folder='imgs', cache_folder='cache',\n",
    "          use_cache=True, log_console=True, \n",
    "          log_name='osmnx', log_file=True, log_filename='osmnx')\n",
    "\n",
    "crs_osm = {'init':'epsg:4326'}           #crs that osm uses"
   ]
  },
  {
   "cell_type": "code",
   "execution_count": 4,
   "metadata": {},
   "outputs": [],
   "source": [
    "G_o = ox.load_graphml('data/networks/Budapest_walk_bike_original.graphml',node_type=float)\n",
    "G_o = ox.project_graph(G_o,to_crs=crs_osm)"
   ]
  },
  {
   "cell_type": "code",
   "execution_count": 5,
   "metadata": {},
   "outputs": [],
   "source": [
    "G_n = ox.load_graphml('data/networks/Budapest_walk_bike_pilot.graphml', node_type=float)\n",
    "G_n = ox.project_graph(G_n,to_crs=crs_osm)"
   ]
  },
  {
   "cell_type": "code",
   "execution_count": 42,
   "metadata": {},
   "outputs": [],
   "source": [
    "G_n = ox.load_graphml('data/networks/Budapest_walk_bike_pilot_2.graphml', node_type=float)\n",
    "G_n2 = ox.project_graph(G_n,to_crs=crs_osm)"
   ]
  },
  {
   "cell_type": "code",
   "execution_count": 43,
   "metadata": {},
   "outputs": [],
   "source": [
    "edges_n2 = ox.graph_to_gdfs(G_n2, nodes=False)"
   ]
  },
  {
   "cell_type": "code",
   "execution_count": 6,
   "metadata": {},
   "outputs": [],
   "source": [
    "edges_o = ox.graph_to_gdfs(G_o, nodes=False)\n",
    "edges_n = ox.graph_to_gdfs(G_n, nodes=False)"
   ]
  },
  {
   "cell_type": "code",
   "execution_count": 7,
   "metadata": {},
   "outputs": [
    {
     "name": "stdout",
     "output_type": "stream",
     "text": [
      "User Guide: https://docs.kepler.gl/docs/keplergl-jupyter\n"
     ]
    },
    {
     "ename": "NameError",
     "evalue": "name 'w1' is not defined",
     "output_type": "error",
     "traceback": [
      "\u001b[0;31m---------------------------------------------------------------------------\u001b[0m",
      "\u001b[0;31mNameError\u001b[0m                                 Traceback (most recent call last)",
      "\u001b[0;32m<ipython-input-7-4dc5ae5714bd>\u001b[0m in \u001b[0;36m<module>\u001b[0;34m\u001b[0m\n\u001b[1;32m      2\u001b[0m \u001b[0mm1\u001b[0m\u001b[0;34m.\u001b[0m\u001b[0madd_data\u001b[0m\u001b[0;34m(\u001b[0m\u001b[0medges_o\u001b[0m\u001b[0;34m,\u001b[0m \u001b[0mname\u001b[0m\u001b[0;34m=\u001b[0m\u001b[0;34m'old'\u001b[0m\u001b[0;34m)\u001b[0m\u001b[0;34m\u001b[0m\u001b[0;34m\u001b[0m\u001b[0m\n\u001b[1;32m      3\u001b[0m \u001b[0mm1\u001b[0m\u001b[0;34m.\u001b[0m\u001b[0madd_data\u001b[0m\u001b[0;34m(\u001b[0m\u001b[0medges_n\u001b[0m\u001b[0;34m,\u001b[0m \u001b[0mname\u001b[0m\u001b[0;34m=\u001b[0m\u001b[0;34m'new'\u001b[0m\u001b[0;34m)\u001b[0m\u001b[0;34m\u001b[0m\u001b[0;34m\u001b[0m\u001b[0m\n\u001b[0;32m----> 4\u001b[0;31m \u001b[0mw1\u001b[0m\u001b[0;34m\u001b[0m\u001b[0;34m\u001b[0m\u001b[0m\n\u001b[0m",
      "\u001b[0;31mNameError\u001b[0m: name 'w1' is not defined"
     ]
    }
   ],
   "source": [
    "m1 = keplergl.KeplerGl(height=500)\n",
    "m1.add_data(edges_o, name='old')\n",
    "m1.add_data(edges_n, name='new')\n",
    "w1 "
   ]
  },
  {
   "cell_type": "code",
   "execution_count": 44,
   "metadata": {},
   "outputs": [],
   "source": [
    "m1.add_data(edges_n2, name='new_unsimplified')"
   ]
  },
  {
   "cell_type": "code",
   "execution_count": 45,
   "metadata": {},
   "outputs": [
    {
     "data": {
      "application/vnd.jupyter.widget-view+json": {
       "model_id": "f59c99107e44453eac4626d6bd5107bc",
       "version_major": 2,
       "version_minor": 0
      },
      "text/plain": [
       "KeplerGl(config={'version': 'v1', 'config': {'visState': {'filters': [{'dataId': ['new'], 'id': '6zpuhge7q', '…"
      ]
     },
     "metadata": {},
     "output_type": "display_data"
    }
   ],
   "source": [
    "m1"
   ]
  },
  {
   "cell_type": "code",
   "execution_count": 38,
   "metadata": {},
   "outputs": [],
   "source": [
    "paths = [(274963771.0, 274963766.0),(274963771.0,826166332.0),(826166332.0,826166133.0),(826166133.0,260184944.0),(260184967.0,260184944.0),(260184967.0,260184939.0),(260184965.0,260184939.0),\n",
    "        (2669331566.0,260184965.0),(2669331566.0,260184959.0),(2669331637.0,260184959.0),(2669331637.0,826166155.0),(826166155.0,260184927.0),(826166167.0,260184927.0)]\n",
    "for path in paths:\n",
    "    i = path[0]\n",
    "    j = path[1]\n",
    "    G_o[i][j][0]['traverse_time'] = float(G_o[i][j][0]['length_meters']) / 4.16667\n",
    "    G_o[i][j][0]['mode'] = 'test'"
   ]
  },
  {
   "cell_type": "code",
   "execution_count": 39,
   "metadata": {},
   "outputs": [
    {
     "data": {
      "text/plain": [
       "AtlasView({0: {'osmid': [384062361.0, 68741663.0], 'oneway': False, 'lanes': '2', 'name': 'Teréz körút', 'highway': 'secondary', 'length': 69.30499999999999, 'geometry': <shapely.geometry.linestring.LineString object at 0x27cf7b208>, 'length_meters': '69.30499999999999', 'traverse_time': 16.633186693450643, 'mode': 'test'}})"
      ]
     },
     "execution_count": 39,
     "metadata": {},
     "output_type": "execute_result"
    }
   ],
   "source": [
    "G_o[paths[-1][0]][paths[-1][1]]"
   ]
  },
  {
   "cell_type": "code",
   "execution_count": 40,
   "metadata": {},
   "outputs": [],
   "source": [
    "ox.save_graphml(G_o, 'data/networks/Budapest_walk_bike_dummy.graphml')"
   ]
  },
  {
   "cell_type": "code",
   "execution_count": 22,
   "metadata": {},
   "outputs": [
    {
     "data": {
      "text/html": [
       "<div>\n",
       "<style scoped>\n",
       "    .dataframe tbody tr th:only-of-type {\n",
       "        vertical-align: middle;\n",
       "    }\n",
       "\n",
       "    .dataframe tbody tr th {\n",
       "        vertical-align: top;\n",
       "    }\n",
       "\n",
       "    .dataframe thead th {\n",
       "        text-align: right;\n",
       "    }\n",
       "</style>\n",
       "<table border=\"1\" class=\"dataframe\">\n",
       "  <thead>\n",
       "    <tr style=\"text-align: right;\">\n",
       "      <th></th>\n",
       "      <th>u</th>\n",
       "      <th>v</th>\n",
       "    </tr>\n",
       "  </thead>\n",
       "  <tbody>\n",
       "    <tr>\n",
       "      <td>0</td>\n",
       "      <td>5.362156e+09</td>\n",
       "      <td>5.362156e+09</td>\n",
       "    </tr>\n",
       "    <tr>\n",
       "      <td>1</td>\n",
       "      <td>5.362156e+09</td>\n",
       "      <td>2.527741e+09</td>\n",
       "    </tr>\n",
       "    <tr>\n",
       "      <td>2</td>\n",
       "      <td>5.362156e+09</td>\n",
       "      <td>5.362156e+09</td>\n",
       "    </tr>\n",
       "    <tr>\n",
       "      <td>3</td>\n",
       "      <td>5.362156e+09</td>\n",
       "      <td>2.776190e+08</td>\n",
       "    </tr>\n",
       "    <tr>\n",
       "      <td>4</td>\n",
       "      <td>1.947206e+09</td>\n",
       "      <td>3.019804e+09</td>\n",
       "    </tr>\n",
       "  </tbody>\n",
       "</table>\n",
       "</div>"
      ],
      "text/plain": [
       "              u             v\n",
       "0  5.362156e+09  5.362156e+09\n",
       "1  5.362156e+09  2.527741e+09\n",
       "2  5.362156e+09  5.362156e+09\n",
       "3  5.362156e+09  2.776190e+08\n",
       "4  1.947206e+09  3.019804e+09"
      ]
     },
     "execution_count": 22,
     "metadata": {},
     "output_type": "execute_result"
    }
   ],
   "source": [
    "edges_o[['u','v']].head()"
   ]
  },
  {
   "cell_type": "code",
   "execution_count": null,
   "metadata": {},
   "outputs": [],
   "source": []
  }
 ],
 "metadata": {
  "kernelspec": {
   "display_name": "Python 3.7.3 64-bit",
   "language": "python",
   "name": "python37364bit20459f39a129413097d2ee6e6afc5fe7"
  },
  "language_info": {
   "codemirror_mode": {
    "name": "ipython",
    "version": 3
   },
   "file_extension": ".py",
   "mimetype": "text/x-python",
   "name": "python",
   "nbconvert_exporter": "python",
   "pygments_lexer": "ipython3",
   "version": "3.7.3"
  }
 },
 "nbformat": 4,
 "nbformat_minor": 4
}
